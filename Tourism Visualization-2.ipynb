{
 "cells": [
  {
   "cell_type": "code",
   "execution_count": 1,
   "id": "17db95a2-a5eb-489c-8d7e-f398d5a4ad00",
   "metadata": {},
   "outputs": [],
   "source": [
    "import numpy as np\n",
    "import pandas as pd\n",
    "import matplotlib as mpl\n",
    "import matplotlib.pyplot as plt"
   ]
  },
  {
   "cell_type": "code",
   "execution_count": 10,
   "id": "1f6a1da9-6d13-4eaa-a08f-95690e710ae4",
   "metadata": {},
   "outputs": [],
   "source": [
    "Tourism = pd.read_csv(\"tourism_resource_dataset.csv\")\n",
    "# https://www.kaggle.com/datasets/ziya07/tourism-resource-management-dataset?resource=download"
   ]
  },
  {
   "cell_type": "markdown",
   "id": "1f39e9b7-3d67-4fee-9770-f7b2f26c0d53",
   "metadata": {},
   "source": [
    "## Data Overview"
   ]
  },
  {
   "cell_type": "code",
   "execution_count": 9,
   "id": "786eab79-8fc3-4ae5-8ea7-5b38c64ee116",
   "metadata": {},
   "outputs": [
    {
     "data": {
      "text/html": [
       "<div>\n",
       "<style scoped>\n",
       "    .dataframe tbody tr th:only-of-type {\n",
       "        vertical-align: middle;\n",
       "    }\n",
       "\n",
       "    .dataframe tbody tr th {\n",
       "        vertical-align: top;\n",
       "    }\n",
       "\n",
       "    .dataframe thead th {\n",
       "        text-align: right;\n",
       "    }\n",
       "</style>\n",
       "<table border=\"1\" class=\"dataframe\">\n",
       "  <thead>\n",
       "    <tr style=\"text-align: right;\">\n",
       "      <th></th>\n",
       "      <th>timestamp</th>\n",
       "      <th>location_id</th>\n",
       "      <th>visitor_count</th>\n",
       "      <th>resource_usage_rate</th>\n",
       "      <th>temperature</th>\n",
       "      <th>air_quality_index</th>\n",
       "      <th>noise_level</th>\n",
       "      <th>season</th>\n",
       "      <th>peak_hour_flag</th>\n",
       "      <th>visitor_satisfaction</th>\n",
       "      <th>sensor_noise_flag</th>\n",
       "      <th>resource_prediction</th>\n",
       "      <th>resource_allocation</th>\n",
       "      <th>t_sne_dim1</th>\n",
       "      <th>t_sne_dim2</th>\n",
       "    </tr>\n",
       "  </thead>\n",
       "  <tbody>\n",
       "    <tr>\n",
       "      <th>0</th>\n",
       "      <td>2024-12-01 00:00:00</td>\n",
       "      <td>LOC_003</td>\n",
       "      <td>808</td>\n",
       "      <td>0.907638</td>\n",
       "      <td>19.368864</td>\n",
       "      <td>127</td>\n",
       "      <td>51.506727</td>\n",
       "      <td>summer</td>\n",
       "      <td>0</td>\n",
       "      <td>5.502615</td>\n",
       "      <td>1</td>\n",
       "      <td>0.857819</td>\n",
       "      <td>high</td>\n",
       "      <td>-4.576337</td>\n",
       "      <td>0.582736</td>\n",
       "    </tr>\n",
       "    <tr>\n",
       "      <th>1</th>\n",
       "      <td>2024-12-01 01:00:00</td>\n",
       "      <td>LOC_001</td>\n",
       "      <td>948</td>\n",
       "      <td>0.974266</td>\n",
       "      <td>17.404945</td>\n",
       "      <td>37</td>\n",
       "      <td>55.901717</td>\n",
       "      <td>autumn</td>\n",
       "      <td>0</td>\n",
       "      <td>4.736401</td>\n",
       "      <td>0</td>\n",
       "      <td>0.961133</td>\n",
       "      <td>high</td>\n",
       "      <td>-28.314085</td>\n",
       "      <td>20.022820</td>\n",
       "    </tr>\n",
       "    <tr>\n",
       "      <th>2</th>\n",
       "      <td>2024-12-01 02:00:00</td>\n",
       "      <td>LOC_003</td>\n",
       "      <td>292</td>\n",
       "      <td>0.321912</td>\n",
       "      <td>16.366819</td>\n",
       "      <td>113</td>\n",
       "      <td>68.533024</td>\n",
       "      <td>winter</td>\n",
       "      <td>1</td>\n",
       "      <td>2.522827</td>\n",
       "      <td>0</td>\n",
       "      <td>0.306956</td>\n",
       "      <td>low</td>\n",
       "      <td>1.329948</td>\n",
       "      <td>5.881103</td>\n",
       "    </tr>\n",
       "    <tr>\n",
       "      <th>3</th>\n",
       "      <td>2024-12-01 03:00:00</td>\n",
       "      <td>LOC_003</td>\n",
       "      <td>592</td>\n",
       "      <td>0.811889</td>\n",
       "      <td>20.266316</td>\n",
       "      <td>52</td>\n",
       "      <td>85.301039</td>\n",
       "      <td>autumn</td>\n",
       "      <td>1</td>\n",
       "      <td>2.687745</td>\n",
       "      <td>1</td>\n",
       "      <td>0.701945</td>\n",
       "      <td>medium</td>\n",
       "      <td>-11.921675</td>\n",
       "      <td>20.376535</td>\n",
       "    </tr>\n",
       "    <tr>\n",
       "      <th>4</th>\n",
       "      <td>2024-12-01 04:00:00</td>\n",
       "      <td>LOC_001</td>\n",
       "      <td>89</td>\n",
       "      <td>0.936667</td>\n",
       "      <td>15.922471</td>\n",
       "      <td>145</td>\n",
       "      <td>52.258779</td>\n",
       "      <td>summer</td>\n",
       "      <td>1</td>\n",
       "      <td>1.094965</td>\n",
       "      <td>1</td>\n",
       "      <td>0.512834</td>\n",
       "      <td>medium</td>\n",
       "      <td>-6.068825</td>\n",
       "      <td>-4.793058</td>\n",
       "    </tr>\n",
       "  </tbody>\n",
       "</table>\n",
       "</div>"
      ],
      "text/plain": [
       "             timestamp location_id  visitor_count  resource_usage_rate  \\\n",
       "0  2024-12-01 00:00:00     LOC_003            808             0.907638   \n",
       "1  2024-12-01 01:00:00     LOC_001            948             0.974266   \n",
       "2  2024-12-01 02:00:00     LOC_003            292             0.321912   \n",
       "3  2024-12-01 03:00:00     LOC_003            592             0.811889   \n",
       "4  2024-12-01 04:00:00     LOC_001             89             0.936667   \n",
       "\n",
       "   temperature  air_quality_index  noise_level  season  peak_hour_flag  \\\n",
       "0    19.368864                127    51.506727  summer               0   \n",
       "1    17.404945                 37    55.901717  autumn               0   \n",
       "2    16.366819                113    68.533024  winter               1   \n",
       "3    20.266316                 52    85.301039  autumn               1   \n",
       "4    15.922471                145    52.258779  summer               1   \n",
       "\n",
       "   visitor_satisfaction  sensor_noise_flag  resource_prediction  \\\n",
       "0              5.502615                  1             0.857819   \n",
       "1              4.736401                  0             0.961133   \n",
       "2              2.522827                  0             0.306956   \n",
       "3              2.687745                  1             0.701945   \n",
       "4              1.094965                  1             0.512834   \n",
       "\n",
       "  resource_allocation  t_sne_dim1  t_sne_dim2  \n",
       "0                high   -4.576337    0.582736  \n",
       "1                high  -28.314085   20.022820  \n",
       "2                 low    1.329948    5.881103  \n",
       "3              medium  -11.921675   20.376535  \n",
       "4              medium   -6.068825   -4.793058  "
      ]
     },
     "execution_count": 9,
     "metadata": {},
     "output_type": "execute_result"
    }
   ],
   "source": [
    "Tourism.head()"
   ]
  },
  {
   "cell_type": "code",
   "execution_count": 11,
   "id": "db4161da-0f98-4422-94a8-5a16f7be7d28",
   "metadata": {},
   "outputs": [
    {
     "data": {
      "text/plain": [
       "timestamp               0\n",
       "location_id             0\n",
       "visitor_count           0\n",
       "resource_usage_rate     0\n",
       "temperature             0\n",
       "air_quality_index       0\n",
       "noise_level             0\n",
       "season                  0\n",
       "peak_hour_flag          0\n",
       "visitor_satisfaction    0\n",
       "sensor_noise_flag       0\n",
       "resource_prediction     0\n",
       "resource_allocation     0\n",
       "t_sne_dim1              0\n",
       "t_sne_dim2              0\n",
       "dtype: int64"
      ]
     },
     "execution_count": 11,
     "metadata": {},
     "output_type": "execute_result"
    }
   ],
   "source": [
    "# Check for missing values\n",
    "Tourism.isnull().sum()"
   ]
  },
  {
   "cell_type": "code",
   "execution_count": 17,
   "id": "e4383f61-de66-42ea-b6af-cfd20831202a",
   "metadata": {},
   "outputs": [
    {
     "name": "stdout",
     "output_type": "stream",
     "text": [
      "There are 1000 rows and 15 columns\n"
     ]
    }
   ],
   "source": [
    "# Check dimension of dataset\n",
    "rows = len(Tourism.index)\n",
    "columns = len(Tourism.columns)\n",
    "print(\"There are\", rows, \"rows and\", columns, \"columns\")"
   ]
  },
  {
   "cell_type": "code",
   "execution_count": 18,
   "id": "a2a40368-f217-4d33-af9b-3c99eb7018eb",
   "metadata": {},
   "outputs": [
    {
     "data": {
      "text/plain": [
       "timestamp                object\n",
       "location_id              object\n",
       "visitor_count             int64\n",
       "resource_usage_rate     float64\n",
       "temperature             float64\n",
       "air_quality_index         int64\n",
       "noise_level             float64\n",
       "season                   object\n",
       "peak_hour_flag            int64\n",
       "visitor_satisfaction    float64\n",
       "sensor_noise_flag         int64\n",
       "resource_prediction     float64\n",
       "resource_allocation      object\n",
       "t_sne_dim1              float64\n",
       "t_sne_dim2              float64\n",
       "dtype: object"
      ]
     },
     "execution_count": 18,
     "metadata": {},
     "output_type": "execute_result"
    }
   ],
   "source": [
    "# Check column data types\n",
    "Tourism.dtypes"
   ]
  },
  {
   "cell_type": "markdown",
   "id": "adaff51e-9987-4fb6-9596-e04fcf875010",
   "metadata": {},
   "source": [
    "## Data Exploration"
   ]
  },
  {
   "cell_type": "code",
   "execution_count": 49,
   "id": "b17885e2-4062-4041-a3a1-48beb93e262c",
   "metadata": {},
   "outputs": [],
   "source": [
    "popularity = Tourism.groupby('location_id')['visitor_count'].mean()"
   ]
  },
  {
   "cell_type": "code",
   "execution_count": 52,
   "id": "cf76b381-c0c1-4f40-8ea2-99187e9528ef",
   "metadata": {},
   "outputs": [],
   "source": [
    "popularity_satisfaction = Tourism.groupby('location_id')['visitor_satisfaction'].mean()"
   ]
  },
  {
   "cell_type": "code",
   "execution_count": 34,
   "id": "5a96c905-4d40-4939-bab1-b02a463d94c3",
   "metadata": {},
   "outputs": [],
   "source": [
    "popularity_temp = Tourism.groupby('location_id')['temperature'].mean()"
   ]
  },
  {
   "cell_type": "code",
   "execution_count": 54,
   "id": "438556ec-dc65-4d9b-94ae-6d62771a2d38",
   "metadata": {},
   "outputs": [
    {
     "name": "stdout",
     "output_type": "stream",
     "text": [
      "location_id\n",
      "LOC_001    532.442254\n",
      "LOC_002    507.880368\n",
      "LOC_003    508.507837\n",
      "Name: visitor_count, dtype: float64 location_id\n",
      "LOC_001    5.567015\n",
      "LOC_002    5.740517\n",
      "LOC_003    5.354339\n",
      "Name: visitor_satisfaction, dtype: float64 location_id\n",
      "LOC_001    24.994912\n",
      "LOC_002    25.081392\n",
      "LOC_003    25.490467\n",
      "Name: temperature, dtype: float64\n"
     ]
    }
   ],
   "source": [
    "print(popularity, popularity_satisfaction, popularity_temp) # low variability between locations however location 1 and 2 can be examined further"
   ]
  },
  {
   "cell_type": "code",
   "execution_count": 26,
   "id": "53fac62d-0d04-4503-995c-b33d6c7e1b3d",
   "metadata": {},
   "outputs": [
    {
     "data": {
      "text/plain": [
       "season\n",
       "autumn    25.091234\n",
       "spring    25.556342\n",
       "summer    25.066713\n",
       "winter    25.007658\n",
       "Name: temperature, dtype: float64"
      ]
     },
     "execution_count": 26,
     "metadata": {},
     "output_type": "execute_result"
    }
   ],
   "source": [
    "Tourism.groupby('season')['temperature'].mean()"
   ]
  },
  {
   "cell_type": "code",
   "execution_count": 66,
   "id": "162f7c83-5163-4e15-817a-25dad8d64a8c",
   "metadata": {},
   "outputs": [
    {
     "data": {
      "text/plain": [
       "season\n",
       "autumn    538.651452\n",
       "spring    491.956349\n",
       "summer    509.933594\n",
       "winter    527.764940\n",
       "Name: visitor_count, dtype: float64"
      ]
     },
     "execution_count": 66,
     "metadata": {},
     "output_type": "execute_result"
    }
   ],
   "source": [
    "seasons_count = Tourism.groupby('season')['visitor_count'].mean() # worthy to plot, autumn highest\n",
    "seasons_count"
   ]
  },
  {
   "cell_type": "code",
   "execution_count": 65,
   "id": "c7cbea3d-c523-4d57-8293-d870bcfa50a1",
   "metadata": {},
   "outputs": [
    {
     "data": {
      "text/plain": [
       "season\n",
       "autumn    5.760195\n",
       "spring    5.594448\n",
       "summer    5.408456\n",
       "winter    5.470759\n",
       "Name: visitor_satisfaction, dtype: float64"
      ]
     },
     "execution_count": 65,
     "metadata": {},
     "output_type": "execute_result"
    }
   ],
   "source": [
    "seasons_satisfaction = Tourism.groupby('season')['visitor_satisfaction'].mean() # worthy to plot, autumn highest\n",
    "seasons_satisfaction"
   ]
  },
  {
   "cell_type": "code",
   "execution_count": 41,
   "id": "1b0207e3-1bb0-4e25-b002-737d15600c3e",
   "metadata": {},
   "outputs": [
    {
     "data": {
      "text/html": [
       "<div>\n",
       "<style scoped>\n",
       "    .dataframe tbody tr th:only-of-type {\n",
       "        vertical-align: middle;\n",
       "    }\n",
       "\n",
       "    .dataframe tbody tr th {\n",
       "        vertical-align: top;\n",
       "    }\n",
       "\n",
       "    .dataframe thead th {\n",
       "        text-align: right;\n",
       "    }\n",
       "</style>\n",
       "<table border=\"1\" class=\"dataframe\">\n",
       "  <thead>\n",
       "    <tr style=\"text-align: right;\">\n",
       "      <th></th>\n",
       "      <th>visitor_count</th>\n",
       "      <th>resource_usage_rate</th>\n",
       "      <th>temperature</th>\n",
       "      <th>air_quality_index</th>\n",
       "      <th>noise_level</th>\n",
       "      <th>peak_hour_flag</th>\n",
       "      <th>visitor_satisfaction</th>\n",
       "      <th>sensor_noise_flag</th>\n",
       "      <th>resource_prediction</th>\n",
       "      <th>t_sne_dim1</th>\n",
       "      <th>t_sne_dim2</th>\n",
       "    </tr>\n",
       "  </thead>\n",
       "  <tbody>\n",
       "    <tr>\n",
       "      <th>count</th>\n",
       "      <td>1000.000000</td>\n",
       "      <td>1000.000000</td>\n",
       "      <td>1000.000000</td>\n",
       "      <td>1000.000000</td>\n",
       "      <td>1000.000000</td>\n",
       "      <td>1000.000000</td>\n",
       "      <td>1000.000000</td>\n",
       "      <td>1000.000000</td>\n",
       "      <td>1000.000000</td>\n",
       "      <td>1000.000000</td>\n",
       "      <td>1000.000000</td>\n",
       "    </tr>\n",
       "    <tr>\n",
       "      <th>mean</th>\n",
       "      <td>516.800000</td>\n",
       "      <td>0.647452</td>\n",
       "      <td>25.181186</td>\n",
       "      <td>86.485000</td>\n",
       "      <td>64.028052</td>\n",
       "      <td>0.511000</td>\n",
       "      <td>5.555733</td>\n",
       "      <td>0.467000</td>\n",
       "      <td>0.582126</td>\n",
       "      <td>-0.477890</td>\n",
       "      <td>-0.422334</td>\n",
       "    </tr>\n",
       "    <tr>\n",
       "      <th>std</th>\n",
       "      <td>281.178718</td>\n",
       "      <td>0.199183</td>\n",
       "      <td>5.758527</td>\n",
       "      <td>37.615166</td>\n",
       "      <td>19.916098</td>\n",
       "      <td>0.500129</td>\n",
       "      <td>2.554291</td>\n",
       "      <td>0.499159</td>\n",
       "      <td>0.174560</td>\n",
       "      <td>17.179542</td>\n",
       "      <td>15.797633</td>\n",
       "    </tr>\n",
       "    <tr>\n",
       "      <th>min</th>\n",
       "      <td>50.000000</td>\n",
       "      <td>0.300132</td>\n",
       "      <td>15.008856</td>\n",
       "      <td>20.000000</td>\n",
       "      <td>30.013057</td>\n",
       "      <td>0.000000</td>\n",
       "      <td>1.014411</td>\n",
       "      <td>0.000000</td>\n",
       "      <td>0.184301</td>\n",
       "      <td>-34.308690</td>\n",
       "      <td>-38.914820</td>\n",
       "    </tr>\n",
       "    <tr>\n",
       "      <th>25%</th>\n",
       "      <td>274.000000</td>\n",
       "      <td>0.469661</td>\n",
       "      <td>20.231001</td>\n",
       "      <td>53.000000</td>\n",
       "      <td>46.979884</td>\n",
       "      <td>0.000000</td>\n",
       "      <td>3.468966</td>\n",
       "      <td>0.000000</td>\n",
       "      <td>0.462370</td>\n",
       "      <td>-13.762012</td>\n",
       "      <td>-12.932375</td>\n",
       "    </tr>\n",
       "    <tr>\n",
       "      <th>50%</th>\n",
       "      <td>510.000000</td>\n",
       "      <td>0.652413</td>\n",
       "      <td>25.449839</td>\n",
       "      <td>87.000000</td>\n",
       "      <td>63.456537</td>\n",
       "      <td>1.000000</td>\n",
       "      <td>5.599099</td>\n",
       "      <td>0.000000</td>\n",
       "      <td>0.576830</td>\n",
       "      <td>-0.444045</td>\n",
       "      <td>0.167176</td>\n",
       "    </tr>\n",
       "    <tr>\n",
       "      <th>75%</th>\n",
       "      <td>762.250000</td>\n",
       "      <td>0.818292</td>\n",
       "      <td>30.240147</td>\n",
       "      <td>120.000000</td>\n",
       "      <td>81.232047</td>\n",
       "      <td>1.000000</td>\n",
       "      <td>7.725748</td>\n",
       "      <td>1.000000</td>\n",
       "      <td>0.701947</td>\n",
       "      <td>12.986121</td>\n",
       "      <td>12.436126</td>\n",
       "    </tr>\n",
       "    <tr>\n",
       "      <th>max</th>\n",
       "      <td>999.000000</td>\n",
       "      <td>0.997955</td>\n",
       "      <td>34.994276</td>\n",
       "      <td>149.000000</td>\n",
       "      <td>99.826269</td>\n",
       "      <td>1.000000</td>\n",
       "      <td>9.997764</td>\n",
       "      <td>1.000000</td>\n",
       "      <td>0.976715</td>\n",
       "      <td>36.515007</td>\n",
       "      <td>33.652870</td>\n",
       "    </tr>\n",
       "  </tbody>\n",
       "</table>\n",
       "</div>"
      ],
      "text/plain": [
       "       visitor_count  resource_usage_rate  temperature  air_quality_index  \\\n",
       "count    1000.000000          1000.000000  1000.000000        1000.000000   \n",
       "mean      516.800000             0.647452    25.181186          86.485000   \n",
       "std       281.178718             0.199183     5.758527          37.615166   \n",
       "min        50.000000             0.300132    15.008856          20.000000   \n",
       "25%       274.000000             0.469661    20.231001          53.000000   \n",
       "50%       510.000000             0.652413    25.449839          87.000000   \n",
       "75%       762.250000             0.818292    30.240147         120.000000   \n",
       "max       999.000000             0.997955    34.994276         149.000000   \n",
       "\n",
       "       noise_level  peak_hour_flag  visitor_satisfaction  sensor_noise_flag  \\\n",
       "count  1000.000000     1000.000000           1000.000000        1000.000000   \n",
       "mean     64.028052        0.511000              5.555733           0.467000   \n",
       "std      19.916098        0.500129              2.554291           0.499159   \n",
       "min      30.013057        0.000000              1.014411           0.000000   \n",
       "25%      46.979884        0.000000              3.468966           0.000000   \n",
       "50%      63.456537        1.000000              5.599099           0.000000   \n",
       "75%      81.232047        1.000000              7.725748           1.000000   \n",
       "max      99.826269        1.000000              9.997764           1.000000   \n",
       "\n",
       "       resource_prediction   t_sne_dim1   t_sne_dim2  \n",
       "count          1000.000000  1000.000000  1000.000000  \n",
       "mean              0.582126    -0.477890    -0.422334  \n",
       "std               0.174560    17.179542    15.797633  \n",
       "min               0.184301   -34.308690   -38.914820  \n",
       "25%               0.462370   -13.762012   -12.932375  \n",
       "50%               0.576830    -0.444045     0.167176  \n",
       "75%               0.701947    12.986121    12.436126  \n",
       "max               0.976715    36.515007    33.652870  "
      ]
     },
     "execution_count": 41,
     "metadata": {},
     "output_type": "execute_result"
    }
   ],
   "source": [
    "# Check for range of air quality index and noise quality to assess environmental factors\n",
    "Tourism.describe()"
   ]
  },
  {
   "cell_type": "code",
   "execution_count": 63,
   "id": "49c5818f-9906-4ab8-8a44-60c22cdc425b",
   "metadata": {},
   "outputs": [],
   "source": [
    "air = np.linspace(20, 149, 3)\n",
    "noise = np.linspace(30, 100, 3)"
   ]
  },
  {
   "cell_type": "code",
   "execution_count": 64,
   "id": "858d3e82-db13-437d-91dc-f38704e83138",
   "metadata": {},
   "outputs": [
    {
     "name": "stderr",
     "output_type": "stream",
     "text": [
      "/var/folders/f4/frv2pdr135g8wmbzx07hc43m0000gn/T/ipykernel_27841/1324569396.py:3: FutureWarning: The default value of observed=False is deprecated and will change to observed=True in a future version of pandas. Specify observed=False to silence this warning and retain the current behavior\n",
      "  Tourism.pivot_table('visitor_satisfaction', index = [air_quality_cut, noise_level_cut] , columns = 'season')\n"
     ]
    },
    {
     "data": {
      "text/html": [
       "<div>\n",
       "<style scoped>\n",
       "    .dataframe tbody tr th:only-of-type {\n",
       "        vertical-align: middle;\n",
       "    }\n",
       "\n",
       "    .dataframe tbody tr th {\n",
       "        vertical-align: top;\n",
       "    }\n",
       "\n",
       "    .dataframe thead th {\n",
       "        text-align: right;\n",
       "    }\n",
       "</style>\n",
       "<table border=\"1\" class=\"dataframe\">\n",
       "  <thead>\n",
       "    <tr style=\"text-align: right;\">\n",
       "      <th></th>\n",
       "      <th>season</th>\n",
       "      <th>autumn</th>\n",
       "      <th>spring</th>\n",
       "      <th>summer</th>\n",
       "      <th>winter</th>\n",
       "    </tr>\n",
       "    <tr>\n",
       "      <th>air_quality_index</th>\n",
       "      <th>noise_level</th>\n",
       "      <th></th>\n",
       "      <th></th>\n",
       "      <th></th>\n",
       "      <th></th>\n",
       "    </tr>\n",
       "  </thead>\n",
       "  <tbody>\n",
       "    <tr>\n",
       "      <th rowspan=\"2\" valign=\"top\">(20.0, 84.5]</th>\n",
       "      <th>(30.0, 65.0]</th>\n",
       "      <td>5.354646</td>\n",
       "      <td>6.590895</td>\n",
       "      <td>5.769604</td>\n",
       "      <td>5.317673</td>\n",
       "    </tr>\n",
       "    <tr>\n",
       "      <th>(65.0, 100.0]</th>\n",
       "      <td>5.633755</td>\n",
       "      <td>5.542208</td>\n",
       "      <td>5.131615</td>\n",
       "      <td>5.485842</td>\n",
       "    </tr>\n",
       "    <tr>\n",
       "      <th rowspan=\"2\" valign=\"top\">(84.5, 149.0]</th>\n",
       "      <th>(30.0, 65.0]</th>\n",
       "      <td>5.875185</td>\n",
       "      <td>5.328196</td>\n",
       "      <td>5.288314</td>\n",
       "      <td>5.406094</td>\n",
       "    </tr>\n",
       "    <tr>\n",
       "      <th>(65.0, 100.0]</th>\n",
       "      <td>6.117802</td>\n",
       "      <td>5.125987</td>\n",
       "      <td>5.396120</td>\n",
       "      <td>5.695681</td>\n",
       "    </tr>\n",
       "  </tbody>\n",
       "</table>\n",
       "</div>"
      ],
      "text/plain": [
       "season                             autumn    spring    summer    winter\n",
       "air_quality_index noise_level                                          \n",
       "(20.0, 84.5]      (30.0, 65.0]   5.354646  6.590895  5.769604  5.317673\n",
       "                  (65.0, 100.0]  5.633755  5.542208  5.131615  5.485842\n",
       "(84.5, 149.0]     (30.0, 65.0]   5.875185  5.328196  5.288314  5.406094\n",
       "                  (65.0, 100.0]  6.117802  5.125987  5.396120  5.695681"
      ]
     },
     "execution_count": 64,
     "metadata": {},
     "output_type": "execute_result"
    }
   ],
   "source": [
    "air_quality_cut = pd.cut(Tourism['air_quality_index'], air)\n",
    "noise_level_cut = pd.cut(Tourism['noise_level'], noise)                   \n",
    "Tourism.pivot_table('visitor_satisfaction', index = [air_quality_cut, noise_level_cut] , columns = 'season')"
   ]
  },
  {
   "cell_type": "code",
   "execution_count": 90,
   "id": "1914ae1c-1880-41e5-9335-d40d5edc373f",
   "metadata": {},
   "outputs": [
    {
     "data": {
      "text/plain": [
       "location_id\n",
       "LOC_001    0.653160\n",
       "LOC_002    0.637687\n",
       "LOC_003    0.651080\n",
       "Name: resource_usage_rate, dtype: float64"
      ]
     },
     "execution_count": 90,
     "metadata": {},
     "output_type": "execute_result"
    }
   ],
   "source": [
    "# Check each location's resource usage rate\n",
    "resource_location = Tourism.groupby('location_id')['resource_usage_rate'].mean()\n",
    "resource_location"
   ]
  },
  {
   "cell_type": "markdown",
   "id": "efd474ce-1ac6-4f1d-9780-b3d5d3574118",
   "metadata": {},
   "source": [
    "## Data Visualization"
   ]
  },
  {
   "cell_type": "code",
   "execution_count": 93,
   "id": "64be1598-8518-4e40-8ab8-517fbfc251a7",
   "metadata": {},
   "outputs": [
    {
     "data": {
      "image/png": "[encoded data removed]",
      "text/plain": [
       "<Figure size 640x480 with 1 Axes>"
      ]
     },
     "metadata": {},
     "output_type": "display_data"
    }
   ],
   "source": [
    "fig, ax = plt.subplots()\n",
    "ax.bar(seasons_count.index, seasons_count)\n",
    "ax.set(xlabel = 'Season', ylabel = 'Visitor Counts', title = 'Average Visitor Counts by Season')\n",
    "plt.show()"
   ]
  },
  {
   "cell_type": "code",
   "execution_count": 92,
   "id": "65f71b68-66ee-459c-ab2c-6399332e56d4",
   "metadata": {},
   "outputs": [
    {
     "data": {
      "image/png": "[encoded data removed]",
      "text/plain": [
       "<Figure size 640x480 with 1 Axes>"
      ]
     },
     "metadata": {},
     "output_type": "display_data"
    }
   ],
   "source": [
    "fig, ax = plt.subplots()\n",
    "ax.bar(seasons_satisfaction.index, seasons_satisfaction)\n",
    "ax.set(xlabel = 'Season', ylabel = 'Visitor Satisfaction', title = 'Average Visitor Satisfaction by Season')\n",
    "plt.show()"
   ]
  },
  {
   "cell_type": "code",
   "execution_count": 94,
   "id": "af2933c3-b850-457b-9114-1c5f61c749a4",
   "metadata": {},
   "outputs": [],
   "source": [
    "# Visualize impact of resource usage and saisfaction for each location"
   ]
  },
  {
   "cell_type": "code",
   "execution_count": 98,
   "id": "54b8fb78-6253-48a1-a347-c14daaf88fd4",
   "metadata": {},
   "outputs": [
    {
     "data": {
      "image/png": "[encoded data removed]",
      "text/plain": [
       "<Figure size 640x480 with 1 Axes>"
      ]
     },
     "metadata": {},
     "output_type": "display_data"
    }
   ],
   "source": [
    "fig, ax = plt.subplots()\n",
    "ax.plot(resource)\n",
    "ax.set(xlabel = 'Location IDs', ylabel = 'Resource Usage Rate', title = 'Mean Resource Usage Rate for each Location')\n",
    "plt.show()"
   ]
  },
  {
   "cell_type": "code",
   "execution_count": 99,
   "id": "0f41cd0e-bf63-475c-9409-a4810112575c",
   "metadata": {},
   "outputs": [
    {
     "data": {
      "image/png": "[encoded data removed]",
      "text/plain": [
       "<Figure size 640x480 with 1 Axes>"
      ]
     },
     "metadata": {},
     "output_type": "display_data"
    }
   ],
   "source": [
    "fig, ax = plt.subplots()\n",
    "ax.plot(popularity_satisfaction)\n",
    "ax.set(xlabel = 'Locations IDs', ylabel = 'Visitor Satisfaction', title = 'Mean Visitor Satisfaction for each Location')\n",
    "plt.show()"
   ]
  },
  {
   "cell_type": "code",
   "execution_count": null,
   "id": "03c74ed3-1257-4873-9511-010487a27ecf",
   "metadata": {},
   "outputs": [],
   "source": []
  }
 ],
 "metadata": {
  "kernelspec": {
   "display_name": "Python 3 (ipykernel)",
   "language": "python",
   "name": "python3"
  },
  "language_info": {
   "codemirror_mode": {
    "name": "ipython",
    "version": 3
   },
   "file_extension": ".py",
   "mimetype": "text/x-python",
   "name": "python",
   "nbconvert_exporter": "python",
   "pygments_lexer": "ipython3",
   "version": "3.12.5"
  }
 },
 "nbformat": 4,
 "nbformat_minor": 5
}
